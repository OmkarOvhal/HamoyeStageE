{
 "cells": [
  {
   "cell_type": "code",
   "execution_count": 1,
   "id": "7f254364",
   "metadata": {},
   "outputs": [],
   "source": [
    "import numpy as np\n",
    "import pandas as pd"
   ]
  },
  {
   "cell_type": "code",
   "execution_count": 2,
   "id": "0b02c0b4",
   "metadata": {},
   "outputs": [],
   "source": [
    "df=pd.read_csv('tsf.csv')"
   ]
  },
  {
   "cell_type": "code",
   "execution_count": 3,
   "id": "ae8b839d",
   "metadata": {},
   "outputs": [
    {
     "data": {
      "text/html": [
       "<div>\n",
       "<style scoped>\n",
       "    .dataframe tbody tr th:only-of-type {\n",
       "        vertical-align: middle;\n",
       "    }\n",
       "\n",
       "    .dataframe tbody tr th {\n",
       "        vertical-align: top;\n",
       "    }\n",
       "\n",
       "    .dataframe thead th {\n",
       "        text-align: right;\n",
       "    }\n",
       "</style>\n",
       "<table border=\"1\" class=\"dataframe\">\n",
       "  <thead>\n",
       "    <tr style=\"text-align: right;\">\n",
       "      <th></th>\n",
       "      <th>FullDate</th>\n",
       "      <th>Tmax</th>\n",
       "      <th>SysLoad</th>\n",
       "      <th>GasPrice</th>\n",
       "      <th>ElecPrice</th>\n",
       "    </tr>\n",
       "  </thead>\n",
       "  <tbody>\n",
       "    <tr>\n",
       "      <th>0</th>\n",
       "      <td>2010-09-01 00:00:00</td>\n",
       "      <td>15.8</td>\n",
       "      <td>1688.215</td>\n",
       "      <td>3.69</td>\n",
       "      <td>23.710</td>\n",
       "    </tr>\n",
       "    <tr>\n",
       "      <th>1</th>\n",
       "      <td>2010-09-01 01:00:00</td>\n",
       "      <td>15.8</td>\n",
       "      <td>1669.195</td>\n",
       "      <td>3.69</td>\n",
       "      <td>22.635</td>\n",
       "    </tr>\n",
       "    <tr>\n",
       "      <th>2</th>\n",
       "      <td>2010-09-01 02:00:00</td>\n",
       "      <td>15.8</td>\n",
       "      <td>1491.980</td>\n",
       "      <td>3.69</td>\n",
       "      <td>22.565</td>\n",
       "    </tr>\n",
       "    <tr>\n",
       "      <th>3</th>\n",
       "      <td>2010-09-01 03:00:00</td>\n",
       "      <td>15.8</td>\n",
       "      <td>1330.760</td>\n",
       "      <td>3.69</td>\n",
       "      <td>18.910</td>\n",
       "    </tr>\n",
       "    <tr>\n",
       "      <th>4</th>\n",
       "      <td>2010-09-01 04:00:00</td>\n",
       "      <td>15.8</td>\n",
       "      <td>1247.940</td>\n",
       "      <td>3.69</td>\n",
       "      <td>18.030</td>\n",
       "    </tr>\n",
       "  </tbody>\n",
       "</table>\n",
       "</div>"
      ],
      "text/plain": [
       "              FullDate  Tmax   SysLoad  GasPrice  ElecPrice\n",
       "0  2010-09-01 00:00:00  15.8  1688.215      3.69     23.710\n",
       "1  2010-09-01 01:00:00  15.8  1669.195      3.69     22.635\n",
       "2  2010-09-01 02:00:00  15.8  1491.980      3.69     22.565\n",
       "3  2010-09-01 03:00:00  15.8  1330.760      3.69     18.910\n",
       "4  2010-09-01 04:00:00  15.8  1247.940      3.69     18.030"
      ]
     },
     "execution_count": 3,
     "metadata": {},
     "output_type": "execute_result"
    }
   ],
   "source": [
    "df.head()"
   ]
  },
  {
   "cell_type": "code",
   "execution_count": 4,
   "id": "8363dafd",
   "metadata": {},
   "outputs": [
    {
     "data": {
      "text/html": [
       "<div>\n",
       "<style scoped>\n",
       "    .dataframe tbody tr th:only-of-type {\n",
       "        vertical-align: middle;\n",
       "    }\n",
       "\n",
       "    .dataframe tbody tr th {\n",
       "        vertical-align: top;\n",
       "    }\n",
       "\n",
       "    .dataframe thead th {\n",
       "        text-align: right;\n",
       "    }\n",
       "</style>\n",
       "<table border=\"1\" class=\"dataframe\">\n",
       "  <thead>\n",
       "    <tr style=\"text-align: right;\">\n",
       "      <th></th>\n",
       "      <th>Tmax</th>\n",
       "      <th>SysLoad</th>\n",
       "      <th>GasPrice</th>\n",
       "      <th>ElecPrice</th>\n",
       "    </tr>\n",
       "  </thead>\n",
       "  <tbody>\n",
       "    <tr>\n",
       "      <th>count</th>\n",
       "      <td>92016.000000</td>\n",
       "      <td>92016.000000</td>\n",
       "      <td>92016.000000</td>\n",
       "      <td>92016.000000</td>\n",
       "    </tr>\n",
       "    <tr>\n",
       "      <th>mean</th>\n",
       "      <td>231.696688</td>\n",
       "      <td>797.623357</td>\n",
       "      <td>6.016163</td>\n",
       "      <td>65.798356</td>\n",
       "    </tr>\n",
       "    <tr>\n",
       "      <th>std</th>\n",
       "      <td>4562.128748</td>\n",
       "      <td>613.520156</td>\n",
       "      <td>2.608116</td>\n",
       "      <td>213.144084</td>\n",
       "    </tr>\n",
       "    <tr>\n",
       "      <th>min</th>\n",
       "      <td>9.900000</td>\n",
       "      <td>-1596.810100</td>\n",
       "      <td>0.000000</td>\n",
       "      <td>-924.820000</td>\n",
       "    </tr>\n",
       "    <tr>\n",
       "      <th>25%</th>\n",
       "      <td>17.300000</td>\n",
       "      <td>417.119800</td>\n",
       "      <td>3.936900</td>\n",
       "      <td>31.543750</td>\n",
       "    </tr>\n",
       "    <tr>\n",
       "      <th>50%</th>\n",
       "      <td>21.900000</td>\n",
       "      <td>856.467925</td>\n",
       "      <td>5.165600</td>\n",
       "      <td>48.715000</td>\n",
       "    </tr>\n",
       "    <tr>\n",
       "      <th>75%</th>\n",
       "      <td>27.600000</td>\n",
       "      <td>1221.293675</td>\n",
       "      <td>8.023300</td>\n",
       "      <td>76.495000</td>\n",
       "    </tr>\n",
       "    <tr>\n",
       "      <th>max</th>\n",
       "      <td>99999.900000</td>\n",
       "      <td>3264.166300</td>\n",
       "      <td>29.990000</td>\n",
       "      <td>14700.000000</td>\n",
       "    </tr>\n",
       "  </tbody>\n",
       "</table>\n",
       "</div>"
      ],
      "text/plain": [
       "               Tmax       SysLoad      GasPrice     ElecPrice\n",
       "count  92016.000000  92016.000000  92016.000000  92016.000000\n",
       "mean     231.696688    797.623357      6.016163     65.798356\n",
       "std     4562.128748    613.520156      2.608116    213.144084\n",
       "min        9.900000  -1596.810100      0.000000   -924.820000\n",
       "25%       17.300000    417.119800      3.936900     31.543750\n",
       "50%       21.900000    856.467925      5.165600     48.715000\n",
       "75%       27.600000   1221.293675      8.023300     76.495000\n",
       "max    99999.900000   3264.166300     29.990000  14700.000000"
      ]
     },
     "execution_count": 4,
     "metadata": {},
     "output_type": "execute_result"
    }
   ],
   "source": [
    "df.describe()"
   ]
  },
  {
   "cell_type": "code",
   "execution_count": 5,
   "id": "d7820733",
   "metadata": {},
   "outputs": [
    {
     "data": {
      "text/plain": [
       "FullDate      object\n",
       "Tmax         float64\n",
       "SysLoad      float64\n",
       "GasPrice     float64\n",
       "ElecPrice    float64\n",
       "dtype: object"
      ]
     },
     "execution_count": 5,
     "metadata": {},
     "output_type": "execute_result"
    }
   ],
   "source": [
    "df.dtypes"
   ]
  },
  {
   "cell_type": "code",
   "execution_count": 6,
   "id": "897ff6c8",
   "metadata": {},
   "outputs": [
    {
     "data": {
      "text/plain": [
       "FullDate     0\n",
       "Tmax         0\n",
       "SysLoad      0\n",
       "GasPrice     0\n",
       "ElecPrice    0\n",
       "dtype: int64"
      ]
     },
     "execution_count": 6,
     "metadata": {},
     "output_type": "execute_result"
    }
   ],
   "source": [
    "df.isnull().sum()"
   ]
  },
  {
   "cell_type": "code",
   "execution_count": null,
   "id": "66e0a643",
   "metadata": {},
   "outputs": [],
   "source": [
    "import matplotlib.pyplot as plt\n",
    "plt.plot(df.ElecPrice,df.FullDate)"
   ]
  },
  {
   "cell_type": "code",
   "execution_count": null,
   "id": "04857bf3",
   "metadata": {},
   "outputs": [],
   "source": []
  }
 ],
 "metadata": {
  "kernelspec": {
   "display_name": "Python 3 (ipykernel)",
   "language": "python",
   "name": "python3"
  },
  "language_info": {
   "codemirror_mode": {
    "name": "ipython",
    "version": 3
   },
   "file_extension": ".py",
   "mimetype": "text/x-python",
   "name": "python",
   "nbconvert_exporter": "python",
   "pygments_lexer": "ipython3",
   "version": "3.9.7"
  }
 },
 "nbformat": 4,
 "nbformat_minor": 5
}
